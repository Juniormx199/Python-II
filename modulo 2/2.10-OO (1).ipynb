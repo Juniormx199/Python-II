{
 "cells": [
  {
   "cell_type": "markdown",
   "metadata": {},
   "source": [
    "> Projeto Desenvolve <br>\n",
    "Programação Intermediária com Python <br>\n",
    "Profa. Camila Laranjeira (mila@projetodesenvolve.com.br) <br>\n",
    "\n",
    "# 2.5 a 2.10 - Pilares da OO"
   ]
  },
  {
   "cell_type": "markdown",
   "metadata": {},
   "source": [
    "## Exercícios\n",
    "\n",
    "#### Q1.\n",
    "Essa lista de exercícios terá como base a classe `Evento` criada em exercícios anteriores. Primeiramente criaremos a classe abstrata `EventoABC` com os métodos de instância abstratos `__str__(self)` e `isConcluido(self)`, indicando que todos as subclasses que dela herdarem devem implementar esses métodos.\n",
    "\n",
    "`EventoABC` também possui os atributos `_titulo` (string) e `_descricao` (string), cujos valores são recebidos e inicializados no construtor da classe. Note a convenção de nomenclatura indicando o caráter privado desses atributos."
   ]
  },
  {
   "cell_type": "code",
   "execution_count": 107,
   "metadata": {},
   "outputs": [
    {
     "name": "stdout",
     "output_type": "stream",
     "text": [
      "Evento: Evento 1, Data: 2024-12-28 14:30:00, Descrição: descricao do evento 1, Concluido: False\n"
     ]
    },
    {
     "data": {
      "text/plain": [
       "True"
      ]
     },
     "execution_count": 107,
     "metadata": {},
     "output_type": "execute_result"
    }
   ],
   "source": [
    "#### Classe EventoABC\n",
    "from datetime import datetime\n",
    "from abc import ABC, abstractmethod\n",
    "\n",
    "class EventoABC(ABC):\n",
    "    def __init__(self, _titulo , _descricao):\n",
    "        self._titulo = _titulo\n",
    "        self._descricao = _descricao\n",
    "        \n",
    "    @abstractmethod\n",
    "    def __str__(self):\n",
    "        pass\n",
    "\n",
    "    @abstractmethod\n",
    "    def isConcluido(self):\n",
    "        pass\n",
    "\n",
    "class Evento(EventoABC):\n",
    "    total_eventos = 0\n",
    "    def __init__(self,_titulo, data_hora, _descricao, is_concluido = False):\n",
    "        super().__init__(_titulo, _descricao)\n",
    "        self.data_hora = data_hora\n",
    "        self.is_concluido = is_concluido\n",
    "        Evento.total_eventos += 1\n",
    "\n",
    "\n",
    "    def isConcluido(self):\n",
    "        if self.data_hora < datetime.datetime.now():\n",
    "            self.is_concluido = True\n",
    "\n",
    "    def num_eventos():\n",
    "        return Evento.total_eventos\n",
    "\n",
    "    @staticmethod\n",
    "    def valida_evento(_titulo, data_hora, _descricao):\n",
    "        return isinstance(_titulo, str) and isinstance(data_hora, datetime) and isinstance(_descricao, str)\n",
    "\n",
    "    def __str__(self):\n",
    "        return f\"Evento: {self._titulo}, Data: {self.data_hora}, Descrição: {self._descricao}, Concluido: {self.is_concluido}\"\n",
    "\n",
    "    def __eq__(self , other):\n",
    "        if self.data_hora == other.data_hora:\n",
    "            return True\n",
    "        return False\n",
    "\n",
    "    def __ne__(self , other):\n",
    "        if self.data_hora != other.data_hora:\n",
    "            return True\n",
    "        return False\n",
    "        \n",
    "    def __lt__(self , other):\n",
    "        if self.data_hora < other.data_hora:\n",
    "            return True\n",
    "        return False\n",
    "        \n",
    "    def __le__(self , other):\n",
    "        if self.data_hora <= other.data_hora:\n",
    "            return True\n",
    "        return False\n",
    "\n",
    "    def __gt__(self , other):\n",
    "            if self.data_hora > other.data_hora:\n",
    "                return True\n",
    "            return False\n",
    "        \n",
    "    def __ge__(self , other):\n",
    "            if self.data_hora >= other.data_hora:\n",
    "                return True\n",
    "            return False\n",
    "        \n",
    "evento1 = Evento('Evento 1' ,datetime(2024, 12, 28, 14, 30), 'descricao do evento 1')\n",
    "print(evento1)\n",
    "evento1.valida_evento('Evento 1' ,datetime(2024, 12, 28, 14, 30), 'descricao do evento 1')"
   ]
  },
  {
   "cell_type": "markdown",
   "metadata": {
    "vscode": {
     "languageId": "plaintext"
    }
   },
   "source": [
    "#### Q2.\n",
    "\n",
    "Crie a classe `DataHora` que dará suporte ao registro de eventos de calendário.\n",
    "* A classe possui o atributo de instância `_data_hora` (datetime) privado e um atributo de classe `FORMAT` inicializado com a formatação de string aceito para `_data_hora`, ou seja, `FORMAT = '%d/%m/%Y, %H:%M'`.\n",
    "* A classe **não possui construtor customizado**. A alteração de seu atributo se dará a partir da propriedade a seguir.\n",
    "* Crie a `property` `data_hora` para manipular o atributo `_data_hora`.\n",
    "    * O getter da propriedade deve retornar a data como uma string formatada (`%d/%m/%Y, %H:%M`). Use o atributo `FORMAT`. Consulte o [funcionamento do método `strftime`](https://www.programiz.com/python-programming/datetime/strftime).\n",
    "    * O setter da propriedade deve receber uma string de data formatada (`%d/%m/%Y, %H:%M`) e implementar um bloco try-except que tenta converter a string em `datetime` e lança um `ValueError` caso a entrada seja inválida. Use o atributo `FORMAT`. Consulte o [funcionamento do método `strptime`](https://www.digitalocean.com/community/tutorials/python-string-to-datetime-strptime).\n",
    "* Crie o método de instância `isPassado(self)` que avalia se a `_data_hora` é menor que `datetime.now()` (a data e hora atual) e retorna `True` em caso positivo, e `False` caso contrário.\n",
    "* Crie o método de instância `somaDias(self, num_dias)` que recebe um inteiro `num_dias`, soma esse valor ao atributo interno `_data_hora` e retorna a string formatada do resultado da soma (código dado a seguir).   \n",
    "```python\n",
    "data_hora_somada = self._data_hora + datetime.timedelta(days=num_dias)\n",
    "return data_hora_somada.strftime(FORMAT)\n",
    "```\n",
    "\n",
    "Teste a classe `DataHora` com o seguinte código (altere o que for necessário):\n",
    "```python\n",
    "# instanciando o objeto\n",
    "dh = DataHora()\n",
    "\n",
    "# definindo a data_hora através da propriedade\n",
    "dh.data_hora = '05/02/2024, 12:30'\n",
    "\n",
    "## editando a data_hora através da função somaDias\n",
    "dh.data_hora = dh.somaDias(30)\n",
    "\n",
    "## imprimindo a data_hora editada e se é passado\n",
    "print(dh.data_hora, dh.isPassado())\n",
    "```"
   ]
  },
  {
   "cell_type": "code",
   "execution_count": 141,
   "metadata": {},
   "outputs": [
    {
     "name": "stdout",
     "output_type": "stream",
     "text": [
      "2024-03-06 12:30:00 True\n"
     ]
    }
   ],
   "source": [
    "from datetime import datetime, timedelta\n",
    "\n",
    "class DataHora:\n",
    "    FORMAT = '%d/%m/%Y, %H:%M'\n",
    "    \n",
    "    def __init__(self, _data_hora=''):\n",
    "        if _data_hora:\n",
    "            self._data_hora = datetime.strptime(_data_hora, DataHora.FORMAT)\n",
    "        else:\n",
    "            self._data_hora = None\n",
    "        \n",
    "    @property\n",
    "    def data_hora(self):\n",
    "        return self._data_hora\n",
    "\n",
    "    @data_hora.setter\n",
    "    def data_hora(self, nova_data_hora):\n",
    "        if isinstance(nova_data_hora, datetime):\n",
    "            self._data_hora = nova_data_hora\n",
    "        else:\n",
    "            try:\n",
    "                self._data_hora = datetime.strptime(nova_data_hora, DataHora.FORMAT)\n",
    "            except ValueError:\n",
    "                print('Data e hora inválida')\n",
    "\n",
    "    def isPassado(self):\n",
    "        dataAtual = datetime.now()\n",
    "        if self._data_hora and dataAtual > self._data_hora:\n",
    "            return True\n",
    "        return False\n",
    "\n",
    "    def somaDias(self, num_dias):\n",
    "        if self._data_hora:\n",
    "            nova_data = self._data_hora + timedelta(days=num_dias)\n",
    "            return nova_data\n",
    "        return None\n",
    "\n",
    "dh = DataHora()\n",
    "dh.data_hora = '05/02/2024, 12:30'\n",
    "dh.data_hora = dh.somaDias(30)\n",
    "print(dh.data_hora, dh.isPassado())\n"
   ]
  },
  {
   "cell_type": "markdown",
   "metadata": {},
   "source": [
    "#### Q3.\n",
    "Crie a classe `EventoUnico`:\n",
    "* A classe deve herdar de `EventoABC`.\n",
    "* Possui o atributo de instância `_data_hora` (classe `DataHora` que criamos previamente).\n",
    "* Seu construtor deve receber e inicializar os atributos da superclasse, além do valor de `_data_hora` recebido como uma string formatada (`%d/%m/%Y, %H:%M`). Note que para alterar `_data_hora` (objeto tipo `DataHora`), você deve manipular a propriedade interna da classe.\n",
    "*  Implementa os métodos abstratos da superclasse:\n",
    "    * Método `isConcluido()` que invoca o método `isPassado()` de `_data_hora` e retorna o seu resultado.\n",
    "    * Método `__str__` que imprime os atributos do evento na forma `\"Evento: _titulo, Data: _data_hora, Descrição: _descricao, Concluido: isConcluido()\"`. Note que `isConcluido()` é o método de avaliação implementado. \n",
    "* Crie o método de instância `editar_data_hora` que recebe uma string formatada e altera `_data_hora` (através de sua propriedade interna).\n",
    "    \n",
    "    \n",
    "Teste a classe `EventoUnico` com o seguinte código:\n",
    "```python\n",
    "# criar evento\n",
    "evento = EventoUnico('Reunião', 'Sala 302, prédio da esquina', '05/10/2023, 16:30')\n",
    "print(evento)\n",
    "\n",
    "# editar data do evento (através da propriedade)\n",
    "evento.editar_data_hora('05/10/2024, 16:30')\n",
    "print(evento)\n",
    "```"
   ]
  },
  {
   "cell_type": "code",
   "execution_count": 138,
   "metadata": {},
   "outputs": [
    {
     "name": "stdout",
     "output_type": "stream",
     "text": [
      "Evento: Reunião, Data: 2023-10-05 16:30:00, Descrição: Sala 302, prédio da esquina, Concluido: True\n",
      "Evento: Reunião, Data: 2024-12-05 16:30:00, Descrição: Sala 302, prédio da esquina, Concluido: False\n"
     ]
    }
   ],
   "source": [
    "class EventoUnico(EventoABC):\n",
    "    def __init__(self, _titulo, _descricao, _data_hora):\n",
    "        super().__init__(_titulo, _descricao)\n",
    "        self._data_hora = DataHora()\n",
    "        self._data_hora.data_hora = _data_hora \n",
    "\n",
    "    def isConcluido(self):\n",
    "        return self._data_hora.isPassado()\n",
    "\n",
    "    def __str__(self):\n",
    "        return (f\"Evento: {self._titulo}, Data: {self._data_hora.data_hora}, \"\n",
    "                f\"Descrição: {self._descricao}, Concluido: {self.isConcluido()}\")\n",
    "\n",
    "    def editar_data_hora(self, nova_data_hora):\n",
    "        self._data_hora.data_hora = nova_data_hora \n",
    "\n",
    "\n",
    "evento = EventoUnico('Reunião', 'Sala 302, prédio da esquina', '05/10/2023, 16:30')\n",
    "print(evento)\n",
    "\n",
    "evento.editar_data_hora('05/12/2024, 16:30')\n",
    "print(evento)"
   ]
  },
  {
   "cell_type": "markdown",
   "metadata": {},
   "source": [
    "#### Q3.\n",
    "Crie a classe `EventoRecorrente`:\n",
    "* A classe deve herdar de `EventoABC`.\n",
    "* Possui como atributo próprio uma lista privada de objetos `DataHora` (como você deve nomear o atributo?).\n",
    "* Seu construtor recebe os atributos da superclasse, além dos atributos `data_hora_inicial` (string formatada), `data_hora_final` (string formatada) e `intervalo_repeticao` (int), sendo o intervalo dado em dias. Preencha a coleção `DataHora` de acordo com o intervalo de repetição fornecido. Dica: crie o objeto `DataHora` inicial e use sua função interna `somaDias` para criar iterativamente as novas instâncias do intervalo até chegar em `DataHora` final. \n",
    "*  Implementa os métodos abstratos da superclasse:\n",
    "    * Método `isConcluido(indice)` que que invoca o método `isPassado()` do elemento `indice` da coleção de objetos `DataHora` e retorna seu resultado. \n",
    "    * Método `__str__` que imprime (em um laço) **todos as ocorrências `i` do evento** na forma `\"Evento: _titulo, Data: data_hora[i], Descrição: _descricao, Concluido: isConcluido(i)\"`. \n",
    "* Crie o método `editar_data_hora` que recebe `data_hora_antiga` e `data_hora_nova` e altera o elemento da coleção de objetos `DataHora` que corresponde a `data_hora_antiga` fornecida.    \n",
    "\n",
    "\n",
    "Teste a classe `EventoRecorrente` com o seguinte código:\n",
    "```python\n",
    "# criar evento\n",
    "eventos = EventoRecorrente(\n",
    "    'Reunião', 'Sala 302, prédio da esquina', \n",
    "    '05/01/2024, 16:30', '05/01/2025, 16:30', 30)\n",
    "\n",
    "# imprimir eventos\n",
    "print(eventos)\n",
    "\n",
    "# editar um dos eventos\n",
    "eventos.editar_data_hora('05/12/2024, 16:30', '05/12/2024, 11:30')\n",
    "\n",
    "# imprimir eventos\n",
    "print(eventos)\n",
    "```"
   ]
  },
  {
   "cell_type": "code",
   "execution_count": 159,
   "metadata": {},
   "outputs": [
    {
     "name": "stdout",
     "output_type": "stream",
     "text": [
      "Evento: Reunião, Data: 2024-01-05 16:30:00, Descrição: Sala 302, prédio da esquina, Concluido: True \n",
      "Evento: Reunião, Data: 2024-02-04 16:30:00, Descrição: Sala 302, prédio da esquina, Concluido: True \n",
      "Evento: Reunião, Data: 2024-03-05 16:30:00, Descrição: Sala 302, prédio da esquina, Concluido: True \n",
      "Evento: Reunião, Data: 2024-04-04 16:30:00, Descrição: Sala 302, prédio da esquina, Concluido: True \n",
      "Evento: Reunião, Data: 2024-05-04 16:30:00, Descrição: Sala 302, prédio da esquina, Concluido: True \n",
      "Evento: Reunião, Data: 2024-06-03 16:30:00, Descrição: Sala 302, prédio da esquina, Concluido: True \n",
      "Evento: Reunião, Data: 2024-07-03 16:30:00, Descrição: Sala 302, prédio da esquina, Concluido: True \n",
      "Evento: Reunião, Data: 2024-08-02 16:30:00, Descrição: Sala 302, prédio da esquina, Concluido: True \n",
      "Evento: Reunião, Data: 2024-09-01 16:30:00, Descrição: Sala 302, prédio da esquina, Concluido: True \n",
      "Evento: Reunião, Data: 2024-10-01 16:30:00, Descrição: Sala 302, prédio da esquina, Concluido: True \n",
      "Evento: Reunião, Data: 2024-10-31 16:30:00, Descrição: Sala 302, prédio da esquina, Concluido: True \n",
      "Evento: Reunião, Data: 2024-11-30 16:30:00, Descrição: Sala 302, prédio da esquina, Concluido: False \n",
      "Evento: Reunião, Data: 2024-12-30 16:30:00, Descrição: Sala 302, prédio da esquina, Concluido: False \n",
      "\n",
      "Evento: Reunião, Data: 2024-01-05 16:30:00, Descrição: Sala 302, prédio da esquina, Concluido: True \n",
      "Evento: Reunião, Data: 2024-02-04 16:30:00, Descrição: Sala 302, prédio da esquina, Concluido: True \n",
      "Evento: Reunião, Data: 2024-03-05 16:30:00, Descrição: Sala 302, prédio da esquina, Concluido: True \n",
      "Evento: Reunião, Data: 2024-04-04 16:30:00, Descrição: Sala 302, prédio da esquina, Concluido: True \n",
      "Evento: Reunião, Data: 2024-05-04 16:30:00, Descrição: Sala 302, prédio da esquina, Concluido: True \n",
      "Evento: Reunião, Data: 2024-06-03 16:30:00, Descrição: Sala 302, prédio da esquina, Concluido: True \n",
      "Evento: Reunião, Data: 2024-07-03 16:30:00, Descrição: Sala 302, prédio da esquina, Concluido: True \n",
      "Evento: Reunião, Data: 2024-08-02 16:30:00, Descrição: Sala 302, prédio da esquina, Concluido: True \n",
      "Evento: Reunião, Data: 2024-09-01 16:30:00, Descrição: Sala 302, prédio da esquina, Concluido: True \n",
      "Evento: Reunião, Data: 2024-10-01 16:30:00, Descrição: Sala 302, prédio da esquina, Concluido: True \n",
      "Evento: Reunião, Data: 2029-01-05 11:11:00, Descrição: Sala 302, prédio da esquina, Concluido: False \n",
      "Evento: Reunião, Data: 2024-11-30 16:30:00, Descrição: Sala 302, prédio da esquina, Concluido: False \n",
      "Evento: Reunião, Data: 2024-12-30 16:30:00, Descrição: Sala 302, prédio da esquina, Concluido: False \n",
      "\n"
     ]
    }
   ],
   "source": [
    "class EventoRecorrente:\n",
    "\n",
    "    def __init__(self, _titulo, _descricao, data_hora_inicial, data_hora_final, intervalo_repeticao):\n",
    "        self._titulo = _titulo\n",
    "        self._descricao = _descricao\n",
    "\n",
    "        self.__lista_data_hora = []\n",
    "\n",
    "        self.data_hora_inicial =  DataHora(data_hora_inicial)\n",
    "        self.data_hora_final =  DataHora(data_hora_final)\n",
    "\n",
    "        self.intervalo_repeticao = intervalo_repeticao\n",
    "        \n",
    "\n",
    "        while self.data_hora_inicial.data_hora < self.data_hora_final.data_hora:\n",
    "            dh = DataHora()\n",
    "            dh.data_hora = self.data_hora_inicial.data_hora\n",
    "            self.__lista_data_hora.append(dh)\n",
    "            self.data_hora_inicial.data_hora = self.data_hora_inicial.somaDias(intervalo_repeticao)\n",
    "        \n",
    "    def isConcluido(self , indice):\n",
    "        if 0 <= indice < len(self.__lista_data_hora):\n",
    "            evento = self.__lista_data_hora[indice]\n",
    "            return evento.isPassado()\n",
    "        return 'Indice invalido'\n",
    "\n",
    "    def __str__(self):\n",
    "        eventos = \"\"\n",
    "        for i  in range(len(self.__lista_data_hora)):\n",
    "            eventos += f\"Evento: {self._titulo}, Data: {self.__lista_data_hora[i].data_hora}, Descrição: {self._descricao}, Concluido: {self.isConcluido(i)} \\n\"\n",
    "        return eventos\n",
    "\n",
    "    def editar_data_hora(self , data_hora_antiga, data_hora_nova):\n",
    "        for i ,evento in enumerate(self.__lista_data_hora):\n",
    "            if evento.data_hora == datetime.strptime(data_hora_antiga,'%d/%m/%Y, %H:%M'):\n",
    "                evento.data_hora = data_hora_nova\n",
    "                self.__lista_data_hora[i] = evento\n",
    "\n",
    "# Teste\n",
    "eventos = EventoRecorrente(\n",
    "    'Reunião', 'Sala 302, prédio da esquina', \n",
    "    '05/01/2024, 16:30', '05/01/2025, 16:30', 30)\n",
    "\n",
    "print(eventos)\n",
    "\n",
    "eventos.editar_data_hora('31/10/2024, 16:30', '05/01/2029, 11:11')\n",
    "\n",
    "print(eventos)"
   ]
  },
  {
   "cell_type": "markdown",
   "metadata": {},
   "source": [
    "#### Q4.\n",
    "\n",
    "Por fim, vamos só ver o polimorfismo em ação. Crie e preencha uma lista de eventos, sendo alguns do tipo `EventoUnico` e outros do tipo `EventoRecorrente`. Sobre essa lista, execute o laço de impressão a seguir:\n",
    "```python\n",
    "for evento in lista_eventos: print(evento)\n",
    "```\n",
    "A função `print` irá invocar o método especial `__str__` das classes correspondentes dependendo do tipo do objeto recebido. Aí está o polimorfismo :)"
   ]
  },
  {
   "cell_type": "code",
   "execution_count": 161,
   "metadata": {},
   "outputs": [
    {
     "name": "stdout",
     "output_type": "stream",
     "text": [
      "Evento: Aniversario, Data: 2024-12-10 20:00:00, Descrição: Festa em casa, Concluido: False\n",
      "Evento: Curso semanal, Data: 2024-03-01 10:00:00, Descrição: Online, Concluido: True \n",
      "Evento: Curso semanal, Data: 2024-03-08 10:00:00, Descrição: Online, Concluido: True \n",
      "Evento: Curso semanal, Data: 2024-03-15 10:00:00, Descrição: Online, Concluido: True \n",
      "Evento: Curso semanal, Data: 2024-03-22 10:00:00, Descrição: Online, Concluido: True \n",
      "Evento: Curso semanal, Data: 2024-03-29 10:00:00, Descrição: Online, Concluido: True \n",
      "Evento: Curso semanal, Data: 2024-04-05 10:00:00, Descrição: Online, Concluido: True \n",
      "Evento: Curso semanal, Data: 2024-04-12 10:00:00, Descrição: Online, Concluido: True \n",
      "Evento: Curso semanal, Data: 2024-04-19 10:00:00, Descrição: Online, Concluido: True \n",
      "Evento: Curso semanal, Data: 2024-04-26 10:00:00, Descrição: Online, Concluido: True \n",
      "Evento: Curso semanal, Data: 2024-05-03 10:00:00, Descrição: Online, Concluido: True \n",
      "Evento: Curso semanal, Data: 2024-05-10 10:00:00, Descrição: Online, Concluido: True \n",
      "Evento: Curso semanal, Data: 2024-05-17 10:00:00, Descrição: Online, Concluido: True \n",
      "Evento: Curso semanal, Data: 2024-05-24 10:00:00, Descrição: Online, Concluido: True \n",
      "Evento: Curso semanal, Data: 2024-05-31 10:00:00, Descrição: Online, Concluido: True \n",
      "\n"
     ]
    }
   ],
   "source": [
    "lista_eventos = [\n",
    "    EventoUnico('Aniversario', 'Festa em casa', '10/12/2024, 20:00'),\n",
    "    EventoRecorrente('Curso semanal', 'Online', '01/03/2024, 10:00', '01/06/2024, 10:00', 7)\n",
    "]\n",
    "\n",
    "\n",
    "for evento in lista_eventos:\n",
    "    print(evento)"
   ]
  }
 ],
 "metadata": {
  "kernelspec": {
   "display_name": "base",
   "language": "python",
   "name": "python3"
  },
  "language_info": {
   "codemirror_mode": {
    "name": "ipython",
    "version": 3
   },
   "file_extension": ".py",
   "mimetype": "text/x-python",
   "name": "python",
   "nbconvert_exporter": "python",
   "pygments_lexer": "ipython3",
   "version": "3.11.7"
  }
 },
 "nbformat": 4,
 "nbformat_minor": 4
}
