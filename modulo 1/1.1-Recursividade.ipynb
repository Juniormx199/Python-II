{
 "cells": [
  {
   "cell_type": "markdown",
   "id": "c87bc264",
   "metadata": {},
   "source": [
    "> Projeto Desenvolve <br>\n",
    "Programação Intermediária com Python <br>\n",
    "Profa. Camila Laranjeira (mila@projetodesenvolve.com.br) <br>\n",
    "\n",
    "# 1.1 - Recursividade"
   ]
  },
  {
   "cell_type": "markdown",
   "id": "02e47197",
   "metadata": {},
   "source": [
    "## Exercícios:\n",
    "\n",
    "#### **Q1**. \n",
    "Faça um procedimento recursivo que receba dois valores inteiros `a` e `b` e imprime o intervalo fechado entre eles. Se `a > b` imprima uma mensagem de erro.\n",
    "\n",
    "| Entrada |  Saída |\n",
    "| ------- | ------ |\n",
    "| 1 10    | 1 2 3 4 5 6 7 8 9 10 |\n",
    "| -5 1    | -5 -4 -3 -2 -1 |\n",
    "| 5 -5    | Valores invalidos |\n",
    "| 17 20   | 17 18 19 20 |"
   ]
  },
  {
   "cell_type": "code",
   "execution_count": 23,
   "id": "e89a9966",
   "metadata": {},
   "outputs": [
    {
     "name": "stdout",
     "output_type": "stream",
     "text": [
      "17\n",
      "18\n",
      "19\n",
      "20\n"
     ]
    }
   ],
   "source": [
    "def intervaloNumeros(a ,b):\n",
    "    if a > b:\n",
    "        return print('Valores invalidos')\n",
    "    elif a == b:\n",
    "        print(a)\n",
    "    else:\n",
    "        print(a)\n",
    "        intervaloNumeros(a + 1 , b)\n",
    "\n",
    "intervaloNumeros(17 ,20)\n",
    "        "
   ]
  },
  {
   "cell_type": "markdown",
   "id": "b48196ed",
   "metadata": {},
   "source": [
    "---\n",
    "\n",
    "\n",
    "#### **Q2**. \n",
    "Mudando **apenas uma linha**, altere o código anterior para imprimir o intervalo invertido.\n",
    "\n",
    "| Entrada |  Saída |\n",
    "| ------- | ------ |\n",
    "| 1 10    | 10 9 8 7 6 5 4 3 2 1 |\n",
    "| -5 1    | -1 -2 -3 -4 -5 |\n",
    "| 5 -5    | Valores invalidos |\n",
    "| 17 20   | 20 19 18 17 |"
   ]
  },
  {
   "cell_type": "code",
   "execution_count": 33,
   "id": "4d0c21b4",
   "metadata": {},
   "outputs": [
    {
     "name": "stdout",
     "output_type": "stream",
     "text": [
      "20\n",
      "19\n",
      "18\n",
      "17\n"
     ]
    }
   ],
   "source": [
    "def intervaloNumeros(a ,b):\n",
    "    if a > b:\n",
    "        return print('Valores invalidos')\n",
    "    elif a == b:\n",
    "        print(b)\n",
    "    else:\n",
    "        print(b)\n",
    "        intervaloNumeros(a , b - 1)\n",
    "\n",
    "intervaloNumeros(17 , 20)"
   ]
  },
  {
   "cell_type": "markdown",
   "id": "be727074",
   "metadata": {},
   "source": [
    "\n",
    "\n",
    "---\n",
    "\n",
    "\n",
    "#### **Q3**. \n",
    "Escreva uma função recursiva que recebe um inteiro `n > 1` e calcula a soma dos valores entre `n` e `1`.\n",
    "\n",
    "| Entrada |  Saída |\n",
    "| ------- | ------ |\n",
    "| 5   | 15 |\n",
    "| 13  | 78 |"
   ]
  },
  {
   "cell_type": "code",
   "execution_count": 72,
   "id": "c4da98b8",
   "metadata": {},
   "outputs": [
    {
     "name": "stdout",
     "output_type": "stream",
     "text": [
      "15\n",
      "91\n"
     ]
    }
   ],
   "source": [
    "def soma_recursiva(n):\n",
    "    if n == 1:\n",
    "        return 1\n",
    "    return n + soma_recursiva(n - 1)\n",
    "\n",
    "\n",
    "print(soma_recursiva(5))\n",
    "print(soma_recursiva(13))\n"
   ]
  },
  {
   "cell_type": "markdown",
   "id": "4142b276",
   "metadata": {},
   "source": [
    "\n",
    "\n",
    "---\n",
    "\n",
    "\n",
    "#### **Q4**.  \n",
    "\n",
    "Escreva uma função recursiva que recebe um inteiro `n` e verifica se `n`é um valor primo, ou seja, se é divisível apenas por si mesmo e por `1`."
   ]
  },
  {
   "cell_type": "code",
   "execution_count": 2,
   "id": "4c96eb2d",
   "metadata": {},
   "outputs": [
    {
     "name": "stdout",
     "output_type": "stream",
     "text": [
      "True\n",
      "False\n"
     ]
    }
   ],
   "source": [
    "def primo(n, divisor=None):\n",
    "    if divisor is None:\n",
    "        divisor = n - 1\n",
    "    \n",
    "    if n < 2:\n",
    "        return False\n",
    "    if divisor == 1:\n",
    "        return True\n",
    "    if n % divisor == 0:\n",
    "        return False\n",
    "    \n",
    "    return primo(n, divisor - 1)\n",
    "\n",
    "print(primo(29))\n",
    "print(primo(10))\n"
   ]
  },
  {
   "cell_type": "markdown",
   "id": "2a0ae81c",
   "metadata": {},
   "source": [
    "\n",
    "\n",
    "---\n",
    "\n",
    "\n",
    "#### **Q5**. \n",
    "Implemente uma função recursiva que recebe um número inteiro decimal e retorna sua representação binária como uma string. Para realizar essa conversão, utilize o método de divisão sucessiva, onde você divide o número decimal por 2 e coleta os restos até que o quociente seja zero. A ordem dos restos coletados, de baixo para cima, forma o número binário correspondente.\n",
    "\n",
    "**Exemplo de Conversão:**\n",
    "\n",
    "Para converter o número decimal 13 para binário:\n",
    "```\n",
    "13 ÷ 2 = 6, resto 1\n",
    "6 ÷ 2 = 3, resto 0\n",
    "3 ÷ 2 = 1, resto 1\n",
    "1 ÷ 2 = 0, resto 1\n",
    "```\n",
    "Lendo os restos de baixo para cima, obtemos o número binário `1101`."
   ]
  },
  {
   "cell_type": "code",
   "execution_count": 103,
   "id": "a7d954f0",
   "metadata": {},
   "outputs": [
    {
     "name": "stdout",
     "output_type": "stream",
     "text": [
      "1101\n"
     ]
    }
   ],
   "source": [
    "def binario(num):\n",
    "    if num == 0:\n",
    "        return \"\"\n",
    "    return binario(num // 2) + str(num % 2)\n",
    "\n",
    "print(binario(13))"
   ]
  },
  {
   "cell_type": "markdown",
   "id": "0f500709",
   "metadata": {},
   "source": [
    "\n",
    "\n",
    "---\n",
    "\n",
    "\n",
    "#### **Extra**: \n",
    "\n",
    "Implemente uma função recursiva em Python que realiza a travessia em pré-ordem de uma árvore binária representada por listas aninhadas. Na travessia em pré-ordem (ou pré-fixada), o nó raiz é visitado primeiro, seguido pela subárvore esquerda e, por fim, pela subárvore direita. A questão fixa as constantes `RAIZ_IDX, ESQ_IDX, DIR_IDX` representando os índices da lista onde se encontra o valor raíz, o nó a esquerda e o nó a direita.\n",
    "\n",
    "```\n",
    "# Representação visual da árvore\n",
    "       4\n",
    "      / \\\n",
    "     2   5\n",
    "    / \\\n",
    "   1   3\n",
    "```"
   ]
  },
  {
   "cell_type": "code",
   "execution_count": 105,
   "id": "10df4831",
   "metadata": {},
   "outputs": [
    {
     "name": "stdout",
     "output_type": "stream",
     "text": [
      "[4, 2, 1, 3, 5]\n"
     ]
    }
   ],
   "source": [
    "RAIZ_IDX, ESQ_IDX, DIR_IDX = 0, 1, 2\n",
    "\n",
    "def pre_ordem(arvore):\n",
    "    if arvore is None:\n",
    "        return []\n",
    "    \n",
    "    raiz = arvore[RAIZ_IDX]\n",
    "    esq = arvore[ESQ_IDX]\n",
    "    dir = arvore[DIR_IDX]\n",
    "    \n",
    "    return [raiz] + pre_ordem(esq) + pre_ordem(dir)\n",
    "\n",
    "arvore = [\n",
    "    4,\n",
    "    [\n",
    "        2,\n",
    "        [1, None, None],\n",
    "        [3, None, None]\n",
    "    ],\n",
    "    [\n",
    "        5,\n",
    "        None,\n",
    "        None\n",
    "    ]\n",
    "]\n",
    "\n",
    "resultado = pre_ordem(arvore)\n",
    "print(resultado)\n"
   ]
  },
  {
   "cell_type": "code",
   "execution_count": null,
   "id": "edc23444-20b5-46c9-b3b8-aeb7cb5e1daf",
   "metadata": {},
   "outputs": [],
   "source": []
  }
 ],
 "metadata": {
  "kernelspec": {
   "display_name": "Python 3 (ipykernel)",
   "language": "python",
   "name": "python3"
  },
  "language_info": {
   "codemirror_mode": {
    "name": "ipython",
    "version": 3
   },
   "file_extension": ".py",
   "mimetype": "text/x-python",
   "name": "python",
   "nbconvert_exporter": "python",
   "pygments_lexer": "ipython3",
   "version": "3.11.7"
  }
 },
 "nbformat": 4,
 "nbformat_minor": 5
}
